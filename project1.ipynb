{
 "cells": [
  {
   "attachments": {},
   "cell_type": "markdown",
   "metadata": {},
   "source": [
    "# Project 1\n",
    "Benjamin Ashton & Brad Leavitt\n",
    "Basball dataset findings"
   ]
  },
  {
   "attachments": {},
   "cell_type": "markdown",
   "metadata": {},
   "source": [
    "### imports"
   ]
  },
  {
   "cell_type": "code",
   "execution_count": null,
   "metadata": {},
   "outputs": [],
   "source": [
    "import pandas as pd\n",
    "import matplotlib.pyplot as plt\n",
    "import seaborn as sns"
   ]
  },
  {
   "attachments": {},
   "cell_type": "markdown",
   "metadata": {},
   "source": [
    "## pitchers acurracy and hitting batters\n",
    "I wanted to find whether being pitched to by one who throws more wild pitches if you would end up getting hit by the ball more\n"
   ]
  },
  {
   "cell_type": "code",
   "execution_count": null,
   "metadata": {},
   "outputs": [],
   "source": [
    "df_pitching = pd.read_csv('baseballdatabank-2022.2\\core\\Pitching.csv')\n",
    "hits_wild = df_pitching[['playerID', 'HBP', 'WP']].groupby('playerID')\n",
    "hits_wild = hits_wild.agg('sum')\n",
    "hits_wild.HBP.max()\n",
    "display(hits_wild.sort_values(by=['HBP']))\n",
    "sns.lineplot(data=hits_wild, x=hits_wild['WP'], y=hits_wild['HBP']).set(xlabel='Wild Pitches', ylabel='Batters Hit by Pitch')"
   ]
  },
  {
   "attachments": {},
   "cell_type": "markdown",
   "metadata": {},
   "source": [
    "## hopefully obvious, hits to homeruns\n"
   ]
  },
  {
   "cell_type": "code",
   "execution_count": null,
   "metadata": {},
   "outputs": [],
   "source": [
    "df_batting = pd.read_csv('baseballdatabank-2022.2\\core\\Batting.csv')\n",
    "hits_HR = df_batting[['playerID', 'HR', 'H']].groupby('playerID')\n",
    "hits_HR = hits_HR.agg('sum')\n",
    "hits =  hits_HR['H'].sum()\n",
    "HomeRuns = hits_HR['HR'].sum()\n",
    "display(hits)\n",
    "display(HomeRuns)\n",
    "display(hits/HomeRuns)\n",
    "sns.scatterplot(data=hits_wild, x=hits_HR['H'], y=hits_HR['HR']).set(xlabel='Hits', ylabel='Homeruns')"
   ]
  }
 ],
 "metadata": {
  "kernelspec": {
   "display_name": "Python 3",
   "language": "python",
   "name": "python3"
  },
  "language_info": {
   "codemirror_mode": {
    "name": "ipython",
    "version": 3
   },
   "file_extension": ".py",
   "mimetype": "text/x-python",
   "name": "python",
   "nbconvert_exporter": "python",
   "pygments_lexer": "ipython3",
   "version": "3.10.9"
  },
  "orig_nbformat": 4,
  "vscode": {
   "interpreter": {
    "hash": "8112dd241fa2daf28d9e3e7428f74cc036918cdd417492de7d9a77b623e05e74"
   }
  }
 },
 "nbformat": 4,
 "nbformat_minor": 2
}
