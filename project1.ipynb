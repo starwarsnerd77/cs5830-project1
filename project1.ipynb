{
 "cells": [
  {
   "attachments": {},
   "cell_type": "markdown",
   "metadata": {},
   "source": [
    "# Project 1\n",
    "Benjamin Ashton & Brad Leavitt\n",
    "Basball dataset findings"
   ]
  },
  {
   "attachments": {},
   "cell_type": "markdown",
   "metadata": {},
   "source": [
    "### imports"
   ]
  },
  {
   "cell_type": "code",
   "execution_count": null,
   "metadata": {},
   "outputs": [],
   "source": [
    "import pandas as pd\n",
    "import matplotlib.pyplot as plt\n",
    "import seaborn as sns"
   ]
  },
  {
   "attachments": {},
   "cell_type": "markdown",
   "metadata": {},
   "source": [
    "## pitchers acurracy and hitting batters\n",
    "I wanted to find whether being pitched to by one who throws more wild pitches if you would end up getting hit by the ball more"
   ]
  },
  {
   "cell_type": "code",
   "execution_count": null,
   "metadata": {},
   "outputs": [],
   "source": [
    "df_pitching = pd.read_csv('baseballdatabank-2022.2/core/Pitching.csv')\n",
    "hits_wild = df_pitching[['playerID', 'HBP', 'WP']].groupby('playerID')\n",
    "hits_wild = hits_wild.agg('sum')\n",
    "hits_wild.HBP.max()\n",
    "display(hits_wild.sort_values(by=['HBP']))\n",
    "sns.lineplot(data=hits_wild, x=hits_wild['WP'], y=hits_wild['HBP']).set(xlabel='Wild Pitches', ylabel='Batters Hit by Pitch')"
   ]
  },
  {
   "attachments": {},
   "cell_type": "markdown",
   "metadata": {},
   "source": [
    "## hopefully obvious, hits to homeruns"
   ]
  },
  {
   "cell_type": "code",
   "execution_count": null,
   "metadata": {},
   "outputs": [],
   "source": [
    "df_batting = pd.read_csv('baseballdatabank-2022.2/core/Batting.csv')\n",
    "hits_HR = df_batting[['playerID', 'HR', 'H']].groupby('playerID')\n",
    "hits_HR = hits_HR.agg('sum')\n",
    "hits =  hits_HR['H'].sum()\n",
    "HomeRuns = hits_HR['HR'].sum()\n",
    "display(hits)\n",
    "display(HomeRuns)\n",
    "display(hits/HomeRuns)\n",
    "sns.scatterplot(data=hits_wild, x=hits_HR['H'], y=hits_HR['HR']).set(xlabel='Hits', ylabel='Homeruns')"
   ]
  },
  {
   "attachments": {},
   "cell_type": "markdown",
   "metadata": {},
   "source": [
    "# Datasets"
   ]
  },
  {
   "cell_type": "code",
   "execution_count": null,
   "metadata": {},
   "outputs": [],
   "source": [
    "batting = pd.read_csv('baseballdatabank-2022.2/core/Batting.csv')\n",
    "people = pd.read_csv('baseballdatabank-2022.2/core/People.csv')\n",
    "teams = pd.read_csv('baseballdatabank-2022.2/core/Teams.csv')"
   ]
  },
  {
   "cell_type": "code",
   "execution_count": null,
   "metadata": {},
   "outputs": [],
   "source": [
    "people_hw = people[['playerID', 'height', 'weight']]"
   ]
  },
  {
   "cell_type": "code",
   "execution_count": null,
   "metadata": {},
   "outputs": [],
   "source": [
    "people_hw_batting = people_hw.join(batting[['playerID', 'teamID']].set_index('playerID'), on='playerID').reset_index()"
   ]
  },
  {
   "cell_type": "code",
   "execution_count": null,
   "metadata": {},
   "outputs": [],
   "source": [
    "people_hw_batting_teams = people_hw_batting.join(teams[['teamID', 'G', 'W', 'L']].set_index('teamID'), on='teamID').reset_index()"
   ]
  },
  {
   "attachments": {},
   "cell_type": "markdown",
   "metadata": {},
   "source": [
    "# Weight vs Wins"
   ]
  },
  {
   "cell_type": "code",
   "execution_count": null,
   "metadata": {},
   "outputs": [],
   "source": [
    "sns.scatterplot(people_hw_batting_teams.groupby(by='teamID').agg({'weight':'mean', 'W':'mean'}), x='weight', y='W')"
   ]
  },
  {
   "attachments": {},
   "cell_type": "markdown",
   "metadata": {},
   "source": [
    "# Height vs Wins"
   ]
  },
  {
   "cell_type": "code",
   "execution_count": null,
   "metadata": {},
   "outputs": [],
   "source": [
    "sns.scatterplot(people_hw_batting_teams.groupby(by='teamID').agg({'height':'mean', 'W':'mean'}), x='height', y='W')"
   ]
  }
 ],
 "metadata": {
  "kernelspec": {
   "display_name": "venv",
   "language": "python",
   "name": "python3"
  },
  "language_info": {
   "codemirror_mode": {
    "name": "ipython",
    "version": 3
   },
   "file_extension": ".py",
   "mimetype": "text/x-python",
   "name": "python",
   "nbconvert_exporter": "python",
   "pygments_lexer": "ipython3",
   "version": "3.11.0"
  },
  "orig_nbformat": 4,
  "vscode": {
   "interpreter": {
    "hash": "bbec8707db7cbd2d3f7b7c7e49ebd6462c5944119b5cc55cea77ea7b4e80dbeb"
   }
  }
 },
 "nbformat": 4,
 "nbformat_minor": 2
}
